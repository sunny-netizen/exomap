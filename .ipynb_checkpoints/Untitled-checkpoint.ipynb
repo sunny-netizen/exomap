{
 "cells": [
  {
   "cell_type": "code",
   "execution_count": 9,
   "id": "9acbd701-d83a-45dd-8518-9ea4f78d4fe3",
   "metadata": {},
   "outputs": [],
   "source": [
    "import numpy as np\n",
    "import pandas as pd\n",
    "import os"
   ]
  },
  {
   "cell_type": "code",
   "execution_count": 23,
   "id": "5f076094-8b7c-4c45-93b0-f420efd9102d",
   "metadata": {},
   "outputs": [],
   "source": [
    "ExoData = pd.read_csv(os.path.join(\"PS_2022.03.03_15.38.42.csv\"), skiprows = 96)"
   ]
  },
  {
   "cell_type": "code",
   "execution_count": 26,
   "id": "9805576a-aeb6-4b6e-829f-9fbb40212af7",
   "metadata": {},
   "outputs": [
    {
     "data": {
      "text/plain": [
       "45    276.497505\n",
       "Name: ra, dtype: float64"
      ]
     },
     "execution_count": 26,
     "metadata": {},
     "output_type": "execute_result"
    }
   ],
   "source": [
    "ExoData['ra'][ExoData['ra']>180][33:34]"
   ]
  },
  {
   "cell_type": "code",
   "execution_count": 29,
   "id": "8b046787-c4d0-4a97-bec4-222844e75113",
   "metadata": {},
   "outputs": [
    {
     "name": "stderr",
     "output_type": "stream",
     "text": [
      "/tmp/ipykernel_104/3155026064.py:1: SettingWithCopyWarning: \n",
      "A value is trying to be set on a copy of a slice from a DataFrame\n",
      "\n",
      "See the caveats in the documentation: https://pandas.pydata.org/pandas-docs/stable/user_guide/indexing.html#returning-a-view-versus-a-copy\n",
      "  ExoData.ra[ExoData['ra']>180] = ExoData['ra'][ExoData['ra']>180] - 360\n"
     ]
    }
   ],
   "source": [
    "ExoData.replace(to_replace = ExoData['ra'][ExoData['ra']>180],\n",
    "                value = ExoData['ra'][ExoData['ra']>180] - 360,\n",
    "                inplace = True)"
   ]
  },
  {
   "cell_type": "code",
   "execution_count": 28,
   "id": "05853dea-1af2-4d69-8954-6131d5fa3ff4",
   "metadata": {},
   "outputs": [
    {
     "data": {
      "text/plain": [
       "Series([], Name: ra, dtype: float64)"
      ]
     },
     "execution_count": 28,
     "metadata": {},
     "output_type": "execute_result"
    }
   ],
   "source": [
    "ExoData['ra'][ExoData['ra']>180][33:34]"
   ]
  }
 ],
 "metadata": {
  "kernelspec": {
   "display_name": "Python 3 (ipykernel)",
   "language": "python",
   "name": "python3"
  },
  "language_info": {
   "codemirror_mode": {
    "name": "ipython",
    "version": 3
   },
   "file_extension": ".py",
   "mimetype": "text/x-python",
   "name": "python",
   "nbconvert_exporter": "python",
   "pygments_lexer": "ipython3",
   "version": "3.9.6"
  }
 },
 "nbformat": 4,
 "nbformat_minor": 5
}
