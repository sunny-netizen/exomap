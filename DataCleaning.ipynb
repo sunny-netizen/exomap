{
 "cells": [
  {
   "cell_type": "code",
   "execution_count": 41,
   "id": "9acbd701-d83a-45dd-8518-9ea4f78d4fe3",
   "metadata": {},
   "outputs": [],
   "source": [
    "import numpy as np\n",
    "import pandas as pd\n",
    "import geopandas as gpd\n",
    "import os"
   ]
  },
  {
   "cell_type": "code",
   "execution_count": 2,
   "id": "5f076094-8b7c-4c45-93b0-f420efd9102d",
   "metadata": {},
   "outputs": [
    {
     "data": {
      "text/plain": [
       "(0.1856063, 359.9749837, -88.1211107, 85.7365329)"
      ]
     },
     "execution_count": 2,
     "metadata": {},
     "output_type": "execute_result"
    }
   ],
   "source": [
    "ExoData = pd.read_csv(os.path.join(\"PS_2022.03.03_15.38.42.csv\"), skiprows = 96, na_values={'', 'undefined', 'NaN'})\n",
    "min(ExoData['ra']), max(ExoData['ra']), min(ExoData['dec']), max(ExoData['dec'])"
   ]
  },
  {
   "cell_type": "code",
   "execution_count": null,
   "id": "16d5673e-3add-4b14-8c2a-0ec0bfac9573",
   "metadata": {},
   "outputs": [],
   "source": [
    "ExoData_default = ExoData[ExoData['default_flag']==1]\n",
    "ExoData.shape, ExoData_default.shape"
   ]
  },
  {
   "cell_type": "code",
   "execution_count": 5,
   "id": "e22b48d1-d444-4190-b9ec-108dc698ed24",
   "metadata": {},
   "outputs": [
    {
     "name": "stderr",
     "output_type": "stream",
     "text": [
      "/opt/conda/envs/sds2021/lib/python3.9/site-packages/pandas/core/frame.py:3607: SettingWithCopyWarning: \n",
      "A value is trying to be set on a copy of a slice from a DataFrame.\n",
      "Try using .loc[row_indexer,col_indexer] = value instead\n",
      "\n",
      "See the caveats in the documentation: https://pandas.pydata.org/pandas-docs/stable/user_guide/indexing.html#returning-a-view-versus-a-copy\n",
      "  self._set_item(key, value)\n"
     ]
    }
   ],
   "source": [
    "ExoData1 = ExoData_default[ExoData_default['ra']>180]\n",
    "ExoData2 = ExoData_default[ExoData_default['ra']<=180]\n",
    "\n",
    "#https://sciencing.com/calculate-longitude-right-ascension-6742230.html\n",
    "ExoData1['lat'] = ExoData1['dec']\n",
    "ExoData2['lat'] = ExoData2['dec']\n",
    "ExoData1['long'] = ExoData1['ra']-360\n",
    "ExoData2['long'] = ExoData2['ra']"
   ]
  },
  {
   "cell_type": "code",
   "execution_count": 6,
   "id": "f88bdd32-0ba5-4c9e-818c-2f9b2ea84343",
   "metadata": {},
   "outputs": [
    {
     "name": "stdout",
     "output_type": "stream",
     "text": [
      "(3827, 94) + (1108, 94) = (4935, 94)\n",
      "longitude range: -179.834928 179.9397081\n",
      "latitude range: -88.1211107 85.7365329\n"
     ]
    }
   ],
   "source": [
    "ExoData_new = pd.concat([ExoData1, ExoData2])\n",
    "print(ExoData1.shape, \"+\", ExoData2.shape, \"=\", ExoData_new.shape)\n",
    "print(\"longitude range:\", min(ExoData_new['long']), max(ExoData_new['long']) )\n",
    "print(\"latitude range:\", min(ExoData_new['lat']), max(ExoData_new['lat']) )"
   ]
  },
  {
   "cell_type": "code",
   "execution_count": 77,
   "id": "9cd3bb6b-4074-45c7-951d-7501fc42f522",
   "metadata": {},
   "outputs": [
    {
     "data": {
      "text/plain": [
       "array(['11 Com', '11 UMi', '14 And', ..., 'ups And', 'ups Leo', 'xi Aql'],\n",
       "      dtype=object)"
      ]
     },
     "execution_count": 77,
     "metadata": {},
     "output_type": "execute_result"
    }
   ],
   "source": [
    "min(ExoData_new.disc_year), max(ExoData_new.disc_year) \n",
    "#ExoData.columns\n",
    "ExoData.hostname.unique()"
   ]
  },
  {
   "cell_type": "code",
   "execution_count": 78,
   "id": "20297641-9b0f-44d0-a6e9-e2ef8a909a3e",
   "metadata": {},
   "outputs": [
    {
     "data": {
      "text/plain": [
       "Transit                          3780\n",
       "Radial Velocity                   915\n",
       "Microlensing                      124\n",
       "Imaging                            58\n",
       "Transit Timing Variations          22\n",
       "Eclipse Timing Variations          16\n",
       "Orbital Brightness Modulation       9\n",
       "Pulsar Timing                       7\n",
       "Pulsation Timing Variations         2\n",
       "Astrometry                          1\n",
       "Disk Kinematics                     1\n",
       "Name: discoverymethod, dtype: int64"
      ]
     },
     "execution_count": 78,
     "metadata": {},
     "output_type": "execute_result"
    }
   ],
   "source": [
    "ExoData_new.filter( items={\n",
    "\"pl_name\", \n",
    "\"disc_year\", \n",
    "\"discoverymethod\",\n",
    "\"disc_facility\",\n",
    "\"sy_snum\",\n",
    "\"sy_pnum\",\n",
    "\"sy_mnum\",\n",
    "\"pl_orbper\",\n",
    "\"pl_rade\",\n",
    "\"pl_radj\",\n",
    "\"pl_masse\",\n",
    "\"pl_massj\",\n",
    "\"pl_dens\",\n",
    "\"st_spectype\",\n",
    "\"sy_dist\",\n",
    "\"ra\",\n",
    "\"dec\"\n",
    "}, axis=1).sample(10)\n",
    "\n",
    "ExoData_new.discoverymethod.value_counts()\n",
    "#ExoData_new.hostname.value_counts()"
   ]
  },
  {
   "cell_type": "code",
   "execution_count": 9,
   "id": "e224f1c8-5c89-4241-bb63-639884c750c9",
   "metadata": {},
   "outputs": [],
   "source": [
    "ExoData_new.to_csv('ExoData.csv')"
   ]
  },
  {
   "cell_type": "code",
   "execution_count": 10,
   "id": "61684582-5007-4d9d-9cb4-f81151965993",
   "metadata": {},
   "outputs": [],
   "source": [
    "gdf = gpd.GeoDataFrame(\n",
    "    ExoData_new, geometry=gpd.points_from_xy(ExoData_new.long, ExoData_new.lat))"
   ]
  },
  {
   "cell_type": "code",
   "execution_count": 11,
   "id": "3cf9c7ed-3f0d-41db-9689-40c1a1b7f8ba",
   "metadata": {},
   "outputs": [
    {
     "data": {
      "text/plain": [
       "<AxesSubplot:>"
      ]
     },
     "execution_count": 11,
     "metadata": {},
     "output_type": "execute_result"
    },
    {
     "data": {
      "image/png": "[encoded data removed]",
      "text/plain": [
       "<Figure size 432x288 with 1 Axes>"
      ]
     },
     "metadata": {
      "needs_background": "light"
     },
     "output_type": "display_data"
    }
   ],
   "source": [
    "gdf.plot()"
   ]
  },
  {
   "cell_type": "code",
   "execution_count": 12,
   "id": "499d4d74-f139-4e97-9186-b26efec09634",
   "metadata": {},
   "outputs": [
    {
     "data": {
      "text/plain": [
       "33"
      ]
     },
     "execution_count": 12,
     "metadata": {},
     "output_type": "execute_result"
    }
   ],
   "source": [
    "2022-1989\n"
   ]
  }
 ],
 "metadata": {
  "kernelspec": {
   "display_name": "Python 3 (ipykernel)",
   "language": "python",
   "name": "python3"
  },
  "language_info": {
   "codemirror_mode": {
    "name": "ipython",
    "version": 3
   },
   "file_extension": ".py",
   "mimetype": "text/x-python",
   "name": "python",
   "nbconvert_exporter": "python",
   "pygments_lexer": "ipython3",
   "version": "3.9.6"
  }
 },
 "nbformat": 4,
 "nbformat_minor": 5
}
